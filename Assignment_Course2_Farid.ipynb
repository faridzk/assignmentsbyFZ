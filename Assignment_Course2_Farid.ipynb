{
 "cells": [
  {
   "cell_type": "markdown",
   "metadata": {
    "collapsed": true
   },
   "source": [
    "# My Jupyter Notebook on IBM Watson Studio"
   ]
  },
  {
   "cell_type": "markdown",
   "metadata": {},
   "source": [
    "<b> Muhammad Farid Zamir</b>\n",
    "<br>\n",
    "I am currently serving as Assistant Director IT (Quality Assurance) and I aim to become a well versed Data Scientist and serve in one of the key companies/research centers of Data Science. "
   ]
  },
  {
   "cell_type": "markdown",
   "metadata": {},
   "source": [
    "<i> Well, I am interested in Data Science for so many reasons, but the one prime reason is that it can serve the humanity greatly through it's greatest application of predictions. <i>"
   ]
  },
  {
   "cell_type": "markdown",
   "metadata": {},
   "source": [
    "### Well, my code will be delivering a message data scientist aspirants."
   ]
  },
  {
   "cell_type": "code",
   "execution_count": 4,
   "metadata": {},
   "outputs": [
    {
     "name": "stdout",
     "output_type": "stream",
     "text": [
      "Hello Aspirants !! The data Science world is more welcoming than anything else and it can pay the best price to all the effort done by your brain\n",
      "You will gain 100 % Success\n"
     ]
    }
   ],
   "source": [
    "print(\"Hello Aspirants !! The data Science world is more welcoming than anything else and it can pay the best price to all the effort done by your brain\")\n",
    "data = 50\n",
    "science= 50\n",
    "future= data + science\n",
    "print (\"You will gain \" + str(future) + \" %\" + \" Success\" )"
   ]
  },
  {
   "cell_type": "markdown",
   "metadata": {},
   "source": [
    "- Creative\n",
    "- Curiosity\n",
    "- Analytical\n",
    "\n",
    "1. Python\n",
    "2. R\n",
    "3. SQL\n",
    "\n",
    "<img src=\"/assets/img/MarineGEO_logo.png\" alt=\"Sample Image\"/>\n"
   ]
  },
  {
   "cell_type": "code",
   "execution_count": null,
   "metadata": {},
   "outputs": [],
   "source": []
  }
 ],
 "metadata": {
  "kernelspec": {
   "display_name": "Python 3.10",
   "language": "python",
   "name": "python3"
  },
  "language_info": {
   "codemirror_mode": {
    "name": "ipython",
    "version": 3
   },
   "file_extension": ".py",
   "mimetype": "text/x-python",
   "name": "python",
   "nbconvert_exporter": "python",
   "pygments_lexer": "ipython3",
   "version": "3.10.6"
  }
 },
 "nbformat": 4,
 "nbformat_minor": 1
}
